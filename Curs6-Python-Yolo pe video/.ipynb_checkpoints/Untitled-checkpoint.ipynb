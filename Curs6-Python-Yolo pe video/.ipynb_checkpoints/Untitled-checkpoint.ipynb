{
 "cells": [
  {
   "cell_type": "code",
   "execution_count": 7,
   "metadata": {},
   "outputs": [
    {
     "name": "stdout",
     "output_type": "stream",
     "text": [
      "Numarul de frame-uri este  182.0\n"
     ]
    }
   ],
   "source": [
    "import os\n",
    "import cv2\n",
    "import sys\n",
    "videoInput = 'C:/Users/Maria/Desktop/GitHub/ComputerVision/Curs6-Python-Yolo pe video/drop.avi'\n",
    "\n",
    "if not os.path.isfile(videoInput):\n",
    "    print(\"Input video file \", videoInput, \" doesn't exist\")\n",
    "    sys.exit(1)\n",
    "cap = cv2.VideoCapture(videoInput)\n",
    "fisierIesire = videoInput[:-4] + '_yolo.avi'\n",
    "frameTotal = cap.get(cv2.CAP_PROP_FRAME_COUNT)\n",
    "print('Numarul de frame-uri este ', frameTotal)\n",
    "# Salvam fisierul video\n",
    "videoOut = cv2.VideoWriter(fisierIesire, cv2.VideoWriter_fourcc('M','J','P','G'),\n",
    "    30, (round(cap.get(cv2.CAP_PROP_FRAME_WIDTH)),\n",
    "    round(cap.get(cv2.CAP_PROP_FRAME_HEIGHT))))"
   ]
  },
  {
   "cell_type": "code",
   "execution_count": 19,
   "metadata": {},
   "outputs": [
    {
     "ename": "NameError",
     "evalue": "name 'urlWeights' is not defined",
     "output_type": "error",
     "traceback": [
      "\u001b[1;31m---------------------------------------------------------------------------\u001b[0m",
      "\u001b[1;31mNameError\u001b[0m                                 Traceback (most recent call last)",
      "\u001b[1;32m<ipython-input-19-ed8580dbe203>\u001b[0m in \u001b[0;36m<module>\u001b[1;34m\u001b[0m\n\u001b[0;32m      4\u001b[0m \u001b[0mfolderCOCO\u001b[0m \u001b[1;33m=\u001b[0m \u001b[1;34m'C:/Users/Maria/Desktop/GitHub/ComputerVision/Curs6-Python-Yolo pe video/COCO'\u001b[0m\u001b[1;33m\u001b[0m\u001b[1;33m\u001b[0m\u001b[0m\n\u001b[0;32m      5\u001b[0m \u001b[0mcaleCFG\u001b[0m \u001b[1;33m=\u001b[0m \u001b[0mfolderCOCO\u001b[0m \u001b[1;33m+\u001b[0m \u001b[0murlCFG\u001b[0m\u001b[1;33m.\u001b[0m\u001b[0msplit\u001b[0m\u001b[1;33m(\u001b[0m\u001b[1;34m'/'\u001b[0m\u001b[1;33m)\u001b[0m\u001b[1;33m[\u001b[0m\u001b[1;33m-\u001b[0m\u001b[1;36m1\u001b[0m\u001b[1;33m]\u001b[0m\u001b[1;33m\u001b[0m\u001b[1;33m\u001b[0m\u001b[0m\n\u001b[1;32m----> 6\u001b[1;33m \u001b[0mcaleWeights\u001b[0m \u001b[1;33m=\u001b[0m \u001b[0mfolderCOCO\u001b[0m \u001b[1;33m+\u001b[0m \u001b[0murlWeights\u001b[0m\u001b[1;33m.\u001b[0m\u001b[0msplit\u001b[0m\u001b[1;33m(\u001b[0m\u001b[1;34m'/'\u001b[0m\u001b[1;33m)\u001b[0m\u001b[1;33m[\u001b[0m\u001b[1;33m-\u001b[0m\u001b[1;36m1\u001b[0m\u001b[1;33m]\u001b[0m\u001b[1;33m\u001b[0m\u001b[1;33m\u001b[0m\u001b[0m\n\u001b[0m\u001b[0;32m      7\u001b[0m \u001b[1;31m#Ne asiguram ca am luat bine valorile\u001b[0m\u001b[1;33m\u001b[0m\u001b[1;33m\u001b[0m\u001b[1;33m\u001b[0m\u001b[0m\n\u001b[0;32m      8\u001b[0m \u001b[0mprint\u001b[0m\u001b[1;33m(\u001b[0m\u001b[0mcaleCFG\u001b[0m\u001b[1;33m)\u001b[0m\u001b[1;33m\u001b[0m\u001b[1;33m\u001b[0m\u001b[0m\n",
      "\u001b[1;31mNameError\u001b[0m: name 'urlWeights' is not defined"
     ]
    }
   ],
   "source": [
    "import cv2\n",
    "\n",
    "urlCFG = 'https://raw.github.com/pjreddie/darknet/master/cfg/yolov3.cfg'\n",
    "folderCOCO = 'C:/Users/Maria/Desktop/GitHub/ComputerVision/Curs6-Python-Yolo pe video/COCO'\n",
    "urlWeights = 'https://pjreddie.com/media/files/yolov3.weights'\n",
    "caleCFG = folderCOCO + urlCFG.split('/')[-1]\n",
    "caleWeights = folderCOCO + urlWeights.split('/')[-1]\n",
    "#Ne asiguram ca am luat bine valorile\n",
    "print(caleCFG)\n",
    "print(caleWeights)\n",
    "print(\"Incarcam modelul antrenat anterior (80 de clase)\")\n",
    "net = cv2.dnn.readNetFromDarknet(caleCFG, caleWeights)\n",
    "\n",
    "inWidth = 416\n",
    "inHeight = 416\n",
    "pas = 0\n",
    "while cv2.waitKey(1) < 0:\n",
    "    # citim frame de la video\n",
    "    maiSuntFrameuri, frame = cap.read()\n",
    "    if(pas % 10 == 0):# Afisam mesaj din 10 in 10 frame-uri\n",
    "        print('Am procesat {} din {} de frame-uri.'.format(pas, frameTotal))\n",
    "\n",
    "    # Daca s-a terminat fisierul video\n",
    "    if not maiSuntFrameuri:\n",
    "        print(\"Fisierul de iesire este gata: \", fisierIesire)\n",
    "        cv2.waitKey(3000)\n",
    "        break\n",
    "    (hFrame, wFrame) = frame.shape[:2]\n",
    "\n",
    "    ######### Luam partea de predictie si antrenare de mai sus #########\n",
    "    blob = cv2.dnn.blobFromImage(frame, 1 / 255.0, (inWidth, inHeight),\n",
    "                                                    swapRB=True, crop=False)\n",
    "    net.setInput(blob)\n",
    "    layerOutputs = net.forward(ln)\n",
    "\n",
    "    #adunam in liste\n",
    "    dreptunghiuri = []\n",
    "    increderi = []\n",
    "    clase = []\n",
    "\n",
    "    # pentru fiecare iesire\n",
    "    for output in layerOutputs:\n",
    "        # pentru fiecare obiect detectat\n",
    "        for detectare in output:\n",
    "            '''\n",
    "            Extragem clasa si probabilitatea (increderea) obiectului curent.\n",
    "            8\n",
    "            Acesta conteaza doar daca are probabilitatea > pragIncredere.\n",
    "            Primele 4 elemente reprezinta centru_x, centru_y, lungime,\n",
    "            inaltime. Al 5-lea element este increderea ca dreptunghiul\n",
    "            cuprinde un obiect.\n",
    "            '''\n",
    "            scoruri = detectare[5:]\n",
    "            clasa = np.argmax(scoruri)\n",
    "            incredere = scoruri[clasa]\n",
    "            if incredere > pragIncredere:\n",
    "                # scalam dreptunghiul relativ la dimensiunea initiala a pozei\n",
    "                dreptunghi = detectare[0:4] * np.array([wFrame, hFrame, wFrame, hFrame])\n",
    "                (centruX, centruY, lungime, inaltime) = dreptunghi.astype(\"int\")\n",
    "                x = int(centruX - (lungime / 2))\n",
    "                y = int(centruY - (inaltime / 2))\n",
    "                dreptunghiuri.append([x, y, int(lungime), int(inaltime)])\n",
    "                increderi.append(float(incredere))\n",
    "                clase.append(clasa)\n",
    "\n",
    "    idxs = cv2.dnn.NMSBoxes(dreptunghiuri, increderi, pragIncredere, pragSuprimare)\n",
    "    # daca avem cel putin o detectie\n",
    "    if len(idxs) > 0:\n",
    "        for i in idxs.flatten():\n",
    "            # dreptunghiurile\n",
    "            (x, y) = (dreptunghiuri[i][0], dreptunghiuri[i][1])\n",
    "            (w, h) = (dreptunghiuri[i][2], dreptunghiuri[i][3])\n",
    "            # desenam dreptunghiurile si etichetele\n",
    "            culoare = [int(c) for c in culori[clase[i]]]\n",
    "            cv2.rectangle(frame, (x, y), (x + w, y + h), culoare, 2)\n",
    "            text = \"{}: {:.4f}\".format(etichete[clase[i]], increderi[i])\n",
    "            cv2.putText(frame, text, (x, y - 5),\n",
    "            cv2.FONT_HERSHEY_SIMPLEX, 0.5, culoare, 2)\n",
    "    ######### Pana aici am luat antrenarea si predictia#########\n",
    "    # Salvam frame-ul cu adnotari\n",
    "    videoOut.write(frame.astype(np.uint8))\n",
    "    pas += 1\n",
    "videoOut.release()"
   ]
  },
  {
   "cell_type": "code",
   "execution_count": null,
   "metadata": {},
   "outputs": [],
   "source": []
  }
 ],
 "metadata": {
  "kernelspec": {
   "display_name": "Python 3",
   "language": "python",
   "name": "python3"
  },
  "language_info": {
   "codemirror_mode": {
    "name": "ipython",
    "version": 3
   },
   "file_extension": ".py",
   "mimetype": "text/x-python",
   "name": "python",
   "nbconvert_exporter": "python",
   "pygments_lexer": "ipython3",
   "version": "3.6.8"
  }
 },
 "nbformat": 4,
 "nbformat_minor": 2
}
