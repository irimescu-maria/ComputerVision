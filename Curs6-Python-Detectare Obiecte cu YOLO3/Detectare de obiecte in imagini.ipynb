{
 "cells": [
  {
   "cell_type": "code",
   "execution_count": 8,
   "metadata": {},
   "outputs": [
    {
     "ename": "FileNotFoundError",
     "evalue": "[Errno 2] No such file or directory: 'C:\\\\Users\\\\Maria\\\\Desktop\\\\GitHub\\\\ComputerVision\\\\Curs6-Python-Detectare Obiecte cu YOLO3\\\\https://www.google.com/imgres?imgurl=https%3A%2F%2Frgbd-dataset.cs.washington.edu%2Fimgs%2Frgbd_dataset2.png&imgrefurl=https%3A%2F%2Frgbd-dataset.cs.washington.edu%2F&docid=bYcilPMF3lxjSM&tbnid=M2ayWE-NmBhXqM%3A&vet=10ahUKEwiVka3wqZPgAhUphqYKHX5HDVgQMwg_KAEwAQ..i&w=800&h=441&bih=626&biw=1366&q=object%20PICTURES&ved=0ahUKEwiVka3wqZPgAhUphqYKHX5HDVgQMwg_KAEwAQ&iact=mrc&uact=8'",
     "output_type": "error",
     "traceback": [
      "\u001b[1;31m---------------------------------------------------------------------------\u001b[0m",
      "\u001b[1;31mFileNotFoundError\u001b[0m                         Traceback (most recent call last)",
      "\u001b[1;32m<ipython-input-8-adeeb914fc05>\u001b[0m in \u001b[0;36m<module>\u001b[1;34m\u001b[0m\n\u001b[0;32m     12\u001b[0m \u001b[0mdetector\u001b[0m\u001b[1;33m.\u001b[0m\u001b[0msetModelPath\u001b[0m\u001b[1;33m(\u001b[0m\u001b[1;34m\"C:/Users/Maria/Downloads/resnet50_coco_best_v2.0.1.h5\"\u001b[0m\u001b[1;33m)\u001b[0m\u001b[1;33m\u001b[0m\u001b[1;33m\u001b[0m\u001b[0m\n\u001b[0;32m     13\u001b[0m \u001b[0mdetector\u001b[0m\u001b[1;33m.\u001b[0m\u001b[0mloadModel\u001b[0m\u001b[1;33m(\u001b[0m\u001b[1;33m)\u001b[0m\u001b[1;33m\u001b[0m\u001b[1;33m\u001b[0m\u001b[0m\n\u001b[1;32m---> 14\u001b[1;33m \u001b[0mimg\u001b[0m \u001b[1;33m=\u001b[0m \u001b[0mmpimg\u001b[0m\u001b[1;33m.\u001b[0m\u001b[0mimread\u001b[0m\u001b[1;33m(\u001b[0m\u001b[0mos\u001b[0m\u001b[1;33m.\u001b[0m\u001b[0mpath\u001b[0m\u001b[1;33m.\u001b[0m\u001b[0mjoin\u001b[0m\u001b[1;33m(\u001b[0m\u001b[0mexecution_path\u001b[0m \u001b[1;33m,\u001b[0m \u001b[1;34m\"https://www.google.com/imgres?imgurl=https%3A%2F%2Frgbd-dataset.cs.washington.edu%2Fimgs%2Frgbd_dataset2.png&imgrefurl=https%3A%2F%2Frgbd-dataset.cs.washington.edu%2F&docid=bYcilPMF3lxjSM&tbnid=M2ayWE-NmBhXqM%3A&vet=10ahUKEwiVka3wqZPgAhUphqYKHX5HDVgQMwg_KAEwAQ..i&w=800&h=441&bih=626&biw=1366&q=object%20PICTURES&ved=0ahUKEwiVka3wqZPgAhUphqYKHX5HDVgQMwg_KAEwAQ&iact=mrc&uact=8\"\u001b[0m\u001b[1;33m)\u001b[0m\u001b[1;33m)\u001b[0m\u001b[1;33m\u001b[0m\u001b[1;33m\u001b[0m\u001b[0m\n\u001b[0m\u001b[0;32m     15\u001b[0m \u001b[1;33m\u001b[0m\u001b[0m\n\u001b[0;32m     16\u001b[0m \u001b[0mplt\u001b[0m\u001b[1;33m.\u001b[0m\u001b[0mimshow\u001b[0m\u001b[1;33m(\u001b[0m\u001b[0mimg\u001b[0m\u001b[1;33m)\u001b[0m\u001b[1;33m\u001b[0m\u001b[1;33m\u001b[0m\u001b[0m\n",
      "\u001b[1;32m~\\Anaconda3\\lib\\site-packages\\matplotlib\\image.py\u001b[0m in \u001b[0;36mimread\u001b[1;34m(fname, format)\u001b[0m\n\u001b[0;32m   1357\u001b[0m                              \u001b[1;34m'with Pillow installed matplotlib can handle '\u001b[0m\u001b[1;33m\u001b[0m\u001b[1;33m\u001b[0m\u001b[0m\n\u001b[0;32m   1358\u001b[0m                              'more images' % list(handlers))\n\u001b[1;32m-> 1359\u001b[1;33m         \u001b[1;32mwith\u001b[0m \u001b[0mImage\u001b[0m\u001b[1;33m.\u001b[0m\u001b[0mopen\u001b[0m\u001b[1;33m(\u001b[0m\u001b[0mfname\u001b[0m\u001b[1;33m)\u001b[0m \u001b[1;32mas\u001b[0m \u001b[0mimage\u001b[0m\u001b[1;33m:\u001b[0m\u001b[1;33m\u001b[0m\u001b[1;33m\u001b[0m\u001b[0m\n\u001b[0m\u001b[0;32m   1360\u001b[0m             \u001b[1;32mreturn\u001b[0m \u001b[0mpil_to_array\u001b[0m\u001b[1;33m(\u001b[0m\u001b[0mimage\u001b[0m\u001b[1;33m)\u001b[0m\u001b[1;33m\u001b[0m\u001b[1;33m\u001b[0m\u001b[0m\n\u001b[0;32m   1361\u001b[0m \u001b[1;33m\u001b[0m\u001b[0m\n",
      "\u001b[1;32m~\\Anaconda3\\lib\\site-packages\\PIL\\Image.py\u001b[0m in \u001b[0;36mopen\u001b[1;34m(fp, mode)\u001b[0m\n\u001b[0;32m   2607\u001b[0m \u001b[1;33m\u001b[0m\u001b[0m\n\u001b[0;32m   2608\u001b[0m     \u001b[1;32mif\u001b[0m \u001b[0mfilename\u001b[0m\u001b[1;33m:\u001b[0m\u001b[1;33m\u001b[0m\u001b[1;33m\u001b[0m\u001b[0m\n\u001b[1;32m-> 2609\u001b[1;33m         \u001b[0mfp\u001b[0m \u001b[1;33m=\u001b[0m \u001b[0mbuiltins\u001b[0m\u001b[1;33m.\u001b[0m\u001b[0mopen\u001b[0m\u001b[1;33m(\u001b[0m\u001b[0mfilename\u001b[0m\u001b[1;33m,\u001b[0m \u001b[1;34m\"rb\"\u001b[0m\u001b[1;33m)\u001b[0m\u001b[1;33m\u001b[0m\u001b[1;33m\u001b[0m\u001b[0m\n\u001b[0m\u001b[0;32m   2610\u001b[0m         \u001b[0mexclusive_fp\u001b[0m \u001b[1;33m=\u001b[0m \u001b[1;32mTrue\u001b[0m\u001b[1;33m\u001b[0m\u001b[1;33m\u001b[0m\u001b[0m\n\u001b[0;32m   2611\u001b[0m \u001b[1;33m\u001b[0m\u001b[0m\n",
      "\u001b[1;31mFileNotFoundError\u001b[0m: [Errno 2] No such file or directory: 'C:\\\\Users\\\\Maria\\\\Desktop\\\\GitHub\\\\ComputerVision\\\\Curs6-Python-Detectare Obiecte cu YOLO3\\\\https://www.google.com/imgres?imgurl=https%3A%2F%2Frgbd-dataset.cs.washington.edu%2Fimgs%2Frgbd_dataset2.png&imgrefurl=https%3A%2F%2Frgbd-dataset.cs.washington.edu%2F&docid=bYcilPMF3lxjSM&tbnid=M2ayWE-NmBhXqM%3A&vet=10ahUKEwiVka3wqZPgAhUphqYKHX5HDVgQMwg_KAEwAQ..i&w=800&h=441&bih=626&biw=1366&q=object%20PICTURES&ved=0ahUKEwiVka3wqZPgAhUphqYKHX5HDVgQMwg_KAEwAQ&iact=mrc&uact=8'"
     ]
    }
   ],
   "source": [
    "'''\n",
    "Detectare de obiecte in imagini\n",
    "\n",
    "'''\n",
    "from imageai.Detection import ObjectDetection\n",
    "import os\n",
    "import matplotlib.image as mpimg\n",
    "%matplotlib inline\n",
    "execution_path = os.getcwd()\n",
    "detector = ObjectDetection()\n",
    "detector.setModelTypeAsRetinaNet()\n",
    "detector.setModelPath(\"C:/Users/Maria/Downloads/resnet50_coco_best_v2.0.1.h5\")\n",
    "detector.loadModel()\n",
    "img = mpimg.imread(os.path.join(execution_path , \"christmas.jpg\"))\n",
    "\n",
    "plt.imshow(img)\n",
    "plt.axis(\"off\")"
   ]
  },
  {
   "cell_type": "code",
   "execution_count": null,
   "metadata": {},
   "outputs": [],
   "source": []
  }
 ],
 "metadata": {
  "kernelspec": {
   "display_name": "Python 3",
   "language": "python",
   "name": "python3"
  },
  "language_info": {
   "codemirror_mode": {
    "name": "ipython",
    "version": 3
   },
   "file_extension": ".py",
   "mimetype": "text/x-python",
   "name": "python",
   "nbconvert_exporter": "python",
   "pygments_lexer": "ipython3",
   "version": "3.6.8"
  }
 },
 "nbformat": 4,
 "nbformat_minor": 2
}
